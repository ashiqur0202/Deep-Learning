{
 "cells": [
  {
   "cell_type": "markdown",
   "id": "127ae368-ba58-49ae-8725-57f8a8a0e85c",
   "metadata": {},
   "source": [
    "### Artificial Neural Network on Breast Cancer Dataset"
   ]
  },
  {
   "cell_type": "code",
   "execution_count": 12,
   "id": "0e9f8fd4-f72e-420e-b5af-93f8cbb806b2",
   "metadata": {
    "tags": []
   },
   "outputs": [],
   "source": [
    "import numpy as np\n",
    "import pandas as pd\n",
    "import seaborn as sns\n",
    "import matplotlib.pyplot as plt"
   ]
  },
  {
   "cell_type": "code",
   "execution_count": 13,
   "id": "272205ac-02c0-4140-8f4e-fae921afe79d",
   "metadata": {
    "tags": []
   },
   "outputs": [],
   "source": [
    "df = pd.read_csv(\"data/breast cancer.csv\")"
   ]
  },
  {
   "cell_type": "code",
   "execution_count": 14,
   "id": "9edd397f-8fe3-432c-b112-28fd1f19eef2",
   "metadata": {
    "tags": []
   },
   "outputs": [
    {
     "data": {
      "text/html": [
       "<div>\n",
       "<style scoped>\n",
       "    .dataframe tbody tr th:only-of-type {\n",
       "        vertical-align: middle;\n",
       "    }\n",
       "\n",
       "    .dataframe tbody tr th {\n",
       "        vertical-align: top;\n",
       "    }\n",
       "\n",
       "    .dataframe thead th {\n",
       "        text-align: right;\n",
       "    }\n",
       "</style>\n",
       "<table border=\"1\" class=\"dataframe\">\n",
       "  <thead>\n",
       "    <tr style=\"text-align: right;\">\n",
       "      <th></th>\n",
       "      <th>id</th>\n",
       "      <th>diagnosis</th>\n",
       "      <th>radius_mean</th>\n",
       "      <th>texture_mean</th>\n",
       "      <th>perimeter_mean</th>\n",
       "      <th>area_mean</th>\n",
       "      <th>smoothness_mean</th>\n",
       "      <th>compactness_mean</th>\n",
       "      <th>concavity_mean</th>\n",
       "      <th>concave points_mean</th>\n",
       "      <th>...</th>\n",
       "      <th>texture_worst</th>\n",
       "      <th>perimeter_worst</th>\n",
       "      <th>area_worst</th>\n",
       "      <th>smoothness_worst</th>\n",
       "      <th>compactness_worst</th>\n",
       "      <th>concavity_worst</th>\n",
       "      <th>concave points_worst</th>\n",
       "      <th>symmetry_worst</th>\n",
       "      <th>fractal_dimension_worst</th>\n",
       "      <th>Unnamed: 32</th>\n",
       "    </tr>\n",
       "  </thead>\n",
       "  <tbody>\n",
       "    <tr>\n",
       "      <th>0</th>\n",
       "      <td>842302</td>\n",
       "      <td>M</td>\n",
       "      <td>17.99</td>\n",
       "      <td>10.38</td>\n",
       "      <td>122.80</td>\n",
       "      <td>1001.0</td>\n",
       "      <td>0.11840</td>\n",
       "      <td>0.27760</td>\n",
       "      <td>0.3001</td>\n",
       "      <td>0.14710</td>\n",
       "      <td>...</td>\n",
       "      <td>17.33</td>\n",
       "      <td>184.60</td>\n",
       "      <td>2019.0</td>\n",
       "      <td>0.1622</td>\n",
       "      <td>0.6656</td>\n",
       "      <td>0.7119</td>\n",
       "      <td>0.2654</td>\n",
       "      <td>0.4601</td>\n",
       "      <td>0.11890</td>\n",
       "      <td>NaN</td>\n",
       "    </tr>\n",
       "    <tr>\n",
       "      <th>1</th>\n",
       "      <td>842517</td>\n",
       "      <td>M</td>\n",
       "      <td>20.57</td>\n",
       "      <td>17.77</td>\n",
       "      <td>132.90</td>\n",
       "      <td>1326.0</td>\n",
       "      <td>0.08474</td>\n",
       "      <td>0.07864</td>\n",
       "      <td>0.0869</td>\n",
       "      <td>0.07017</td>\n",
       "      <td>...</td>\n",
       "      <td>23.41</td>\n",
       "      <td>158.80</td>\n",
       "      <td>1956.0</td>\n",
       "      <td>0.1238</td>\n",
       "      <td>0.1866</td>\n",
       "      <td>0.2416</td>\n",
       "      <td>0.1860</td>\n",
       "      <td>0.2750</td>\n",
       "      <td>0.08902</td>\n",
       "      <td>NaN</td>\n",
       "    </tr>\n",
       "    <tr>\n",
       "      <th>2</th>\n",
       "      <td>84300903</td>\n",
       "      <td>M</td>\n",
       "      <td>19.69</td>\n",
       "      <td>21.25</td>\n",
       "      <td>130.00</td>\n",
       "      <td>1203.0</td>\n",
       "      <td>0.10960</td>\n",
       "      <td>0.15990</td>\n",
       "      <td>0.1974</td>\n",
       "      <td>0.12790</td>\n",
       "      <td>...</td>\n",
       "      <td>25.53</td>\n",
       "      <td>152.50</td>\n",
       "      <td>1709.0</td>\n",
       "      <td>0.1444</td>\n",
       "      <td>0.4245</td>\n",
       "      <td>0.4504</td>\n",
       "      <td>0.2430</td>\n",
       "      <td>0.3613</td>\n",
       "      <td>0.08758</td>\n",
       "      <td>NaN</td>\n",
       "    </tr>\n",
       "    <tr>\n",
       "      <th>3</th>\n",
       "      <td>84348301</td>\n",
       "      <td>M</td>\n",
       "      <td>11.42</td>\n",
       "      <td>20.38</td>\n",
       "      <td>77.58</td>\n",
       "      <td>386.1</td>\n",
       "      <td>0.14250</td>\n",
       "      <td>0.28390</td>\n",
       "      <td>0.2414</td>\n",
       "      <td>0.10520</td>\n",
       "      <td>...</td>\n",
       "      <td>26.50</td>\n",
       "      <td>98.87</td>\n",
       "      <td>567.7</td>\n",
       "      <td>0.2098</td>\n",
       "      <td>0.8663</td>\n",
       "      <td>0.6869</td>\n",
       "      <td>0.2575</td>\n",
       "      <td>0.6638</td>\n",
       "      <td>0.17300</td>\n",
       "      <td>NaN</td>\n",
       "    </tr>\n",
       "    <tr>\n",
       "      <th>4</th>\n",
       "      <td>84358402</td>\n",
       "      <td>M</td>\n",
       "      <td>20.29</td>\n",
       "      <td>14.34</td>\n",
       "      <td>135.10</td>\n",
       "      <td>1297.0</td>\n",
       "      <td>0.10030</td>\n",
       "      <td>0.13280</td>\n",
       "      <td>0.1980</td>\n",
       "      <td>0.10430</td>\n",
       "      <td>...</td>\n",
       "      <td>16.67</td>\n",
       "      <td>152.20</td>\n",
       "      <td>1575.0</td>\n",
       "      <td>0.1374</td>\n",
       "      <td>0.2050</td>\n",
       "      <td>0.4000</td>\n",
       "      <td>0.1625</td>\n",
       "      <td>0.2364</td>\n",
       "      <td>0.07678</td>\n",
       "      <td>NaN</td>\n",
       "    </tr>\n",
       "  </tbody>\n",
       "</table>\n",
       "<p>5 rows × 33 columns</p>\n",
       "</div>"
      ],
      "text/plain": [
       "         id diagnosis  radius_mean  texture_mean  perimeter_mean  area_mean  \\\n",
       "0    842302         M        17.99         10.38          122.80     1001.0   \n",
       "1    842517         M        20.57         17.77          132.90     1326.0   \n",
       "2  84300903         M        19.69         21.25          130.00     1203.0   \n",
       "3  84348301         M        11.42         20.38           77.58      386.1   \n",
       "4  84358402         M        20.29         14.34          135.10     1297.0   \n",
       "\n",
       "   smoothness_mean  compactness_mean  concavity_mean  concave points_mean  \\\n",
       "0          0.11840           0.27760          0.3001              0.14710   \n",
       "1          0.08474           0.07864          0.0869              0.07017   \n",
       "2          0.10960           0.15990          0.1974              0.12790   \n",
       "3          0.14250           0.28390          0.2414              0.10520   \n",
       "4          0.10030           0.13280          0.1980              0.10430   \n",
       "\n",
       "   ...  texture_worst  perimeter_worst  area_worst  smoothness_worst  \\\n",
       "0  ...          17.33           184.60      2019.0            0.1622   \n",
       "1  ...          23.41           158.80      1956.0            0.1238   \n",
       "2  ...          25.53           152.50      1709.0            0.1444   \n",
       "3  ...          26.50            98.87       567.7            0.2098   \n",
       "4  ...          16.67           152.20      1575.0            0.1374   \n",
       "\n",
       "   compactness_worst  concavity_worst  concave points_worst  symmetry_worst  \\\n",
       "0             0.6656           0.7119                0.2654          0.4601   \n",
       "1             0.1866           0.2416                0.1860          0.2750   \n",
       "2             0.4245           0.4504                0.2430          0.3613   \n",
       "3             0.8663           0.6869                0.2575          0.6638   \n",
       "4             0.2050           0.4000                0.1625          0.2364   \n",
       "\n",
       "   fractal_dimension_worst  Unnamed: 32  \n",
       "0                  0.11890          NaN  \n",
       "1                  0.08902          NaN  \n",
       "2                  0.08758          NaN  \n",
       "3                  0.17300          NaN  \n",
       "4                  0.07678          NaN  \n",
       "\n",
       "[5 rows x 33 columns]"
      ]
     },
     "execution_count": 14,
     "metadata": {},
     "output_type": "execute_result"
    }
   ],
   "source": [
    "df.head()"
   ]
  },
  {
   "cell_type": "code",
   "execution_count": 15,
   "id": "ee5eefd2-d3d2-40b1-abb9-10c914a725f4",
   "metadata": {
    "tags": []
   },
   "outputs": [
    {
     "data": {
      "text/plain": [
       "Index(['id', 'diagnosis', 'radius_mean', 'texture_mean', 'perimeter_mean',\n",
       "       'area_mean', 'smoothness_mean', 'compactness_mean', 'concavity_mean',\n",
       "       'concave points_mean', 'symmetry_mean', 'fractal_dimension_mean',\n",
       "       'radius_se', 'texture_se', 'perimeter_se', 'area_se', 'smoothness_se',\n",
       "       'compactness_se', 'concavity_se', 'concave points_se', 'symmetry_se',\n",
       "       'fractal_dimension_se', 'radius_worst', 'texture_worst',\n",
       "       'perimeter_worst', 'area_worst', 'smoothness_worst',\n",
       "       'compactness_worst', 'concavity_worst', 'concave points_worst',\n",
       "       'symmetry_worst', 'fractal_dimension_worst', 'Unnamed: 32'],\n",
       "      dtype='object')"
      ]
     },
     "execution_count": 15,
     "metadata": {},
     "output_type": "execute_result"
    }
   ],
   "source": [
    "df.columns"
   ]
  },
  {
   "cell_type": "code",
   "execution_count": 20,
   "id": "109cd775-f2bc-4fcb-ae28-9572f7c1eb4a",
   "metadata": {
    "tags": []
   },
   "outputs": [],
   "source": [
    "del df['Unnamed: 32']"
   ]
  },
  {
   "cell_type": "code",
   "execution_count": 22,
   "id": "2316f513-17da-441c-b98e-71dd9fea823a",
   "metadata": {
    "tags": []
   },
   "outputs": [
    {
     "data": {
      "text/plain": [
       "Index(['id', 'diagnosis', 'radius_mean', 'texture_mean', 'perimeter_mean',\n",
       "       'area_mean', 'smoothness_mean', 'compactness_mean', 'concavity_mean',\n",
       "       'concave points_mean', 'symmetry_mean', 'fractal_dimension_mean',\n",
       "       'radius_se', 'texture_se', 'perimeter_se', 'area_se', 'smoothness_se',\n",
       "       'compactness_se', 'concavity_se', 'concave points_se', 'symmetry_se',\n",
       "       'fractal_dimension_se', 'radius_worst', 'texture_worst',\n",
       "       'perimeter_worst', 'area_worst', 'smoothness_worst',\n",
       "       'compactness_worst', 'concavity_worst', 'concave points_worst',\n",
       "       'symmetry_worst', 'fractal_dimension_worst'],\n",
       "      dtype='object')"
      ]
     },
     "execution_count": 22,
     "metadata": {},
     "output_type": "execute_result"
    }
   ],
   "source": [
    "df.columns"
   ]
  },
  {
   "cell_type": "code",
   "execution_count": 23,
   "id": "f1b82e85-4a41-42d8-a805-44f40ecb7ea3",
   "metadata": {
    "tags": []
   },
   "outputs": [],
   "source": [
    "x = df.iloc[:, 2:].values\n",
    "y = df.iloc[:, 1].values"
   ]
  },
  {
   "cell_type": "code",
   "execution_count": 25,
   "id": "6eb03ba7-d4cc-418f-b3bf-e4e9b121c826",
   "metadata": {
    "tags": []
   },
   "outputs": [],
   "source": [
    "# Encoding cateorcal data\n",
    "from sklearn.preprocessing import LabelEncoder\n",
    "labelencoder_x_1 = LabelEncoder()\n",
    "y=labelencoder_x_1.fit_transform(y)"
   ]
  },
  {
   "cell_type": "code",
   "execution_count": 58,
   "id": "db36f134-5f91-4b4f-87e3-658543ecc0a8",
   "metadata": {
    "tags": []
   },
   "outputs": [],
   "source": [
    "# Splitting the dataset into the training set and test set\n",
    "from sklearn.model_selection import train_test_split\n",
    "x_train, x_test, y_train, y_test = train_test_split(x,y,test_size=0.2, random_state=0)"
   ]
  },
  {
   "cell_type": "code",
   "execution_count": 59,
   "id": "52aa8d83-c769-449a-80b5-c1550cb95b3f",
   "metadata": {
    "tags": []
   },
   "outputs": [],
   "source": [
    "# Feature scaling\n",
    "from sklearn.preprocessing import StandardScaler\n",
    "sc = StandardScaler()\n",
    "x_train = sc.fit_transform(x_train)\n",
    "x_test = sc.transform(x_test)"
   ]
  },
  {
   "cell_type": "code",
   "execution_count": 60,
   "id": "5458436e-0d4c-479d-9cf5-f6b97e9dd6fb",
   "metadata": {
    "tags": []
   },
   "outputs": [
    {
     "data": {
      "text/plain": [
       "array([[-1.15036482, -0.39064196, -1.12855021, ..., -0.75798367,\n",
       "        -0.01614761, -0.38503402],\n",
       "       [-0.93798972,  0.68051405, -0.94820146, ..., -0.60687023,\n",
       "         0.09669004, -0.38615797],\n",
       "       [ 0.574121  , -1.03333557,  0.51394098, ..., -0.02371948,\n",
       "        -0.20050207, -0.75144254],\n",
       "       ...,\n",
       "       [-1.32422924, -0.20048168, -1.31754581, ..., -0.97974953,\n",
       "        -0.71542314, -0.11978123],\n",
       "       [-1.24380987, -0.2245526 , -1.28007609, ..., -1.75401433,\n",
       "        -1.58157125, -1.00601779],\n",
       "       [-0.73694129,  1.14989702, -0.71226578, ..., -0.27460457,\n",
       "        -1.25895095,  0.21515662]])"
      ]
     },
     "execution_count": 60,
     "metadata": {},
     "output_type": "execute_result"
    }
   ],
   "source": [
    "x_train"
   ]
  },
  {
   "cell_type": "code",
   "execution_count": 61,
   "id": "3fd49891-c55d-4b5d-9539-4af833f6b1b5",
   "metadata": {
    "tags": []
   },
   "outputs": [
    {
     "data": {
      "text/plain": [
       "array([[-0.20175604,  0.3290786 , -0.13086754, ...,  1.3893291 ,\n",
       "         1.08203284,  1.54029664],\n",
       "       [-0.25555773,  1.46763319, -0.31780437, ..., -0.83369364,\n",
       "        -0.73131577, -0.87732522],\n",
       "       [-0.02619262, -0.8407682 , -0.09175081, ..., -0.49483785,\n",
       "        -1.22080864, -0.92115937],\n",
       "       ...,\n",
       "       [ 1.71811488,  0.09318356,  1.7286186 , ...,  1.57630515,\n",
       "         0.20317063, -0.15406178],\n",
       "       [ 1.18859296,  0.34352115,  1.19333694, ...,  0.56019755,\n",
       "         0.26991966, -0.27320074],\n",
       "       [ 0.26263752, -0.58080224,  0.28459338, ..., -0.19383705,\n",
       "        -1.15564888,  0.11231497]])"
      ]
     },
     "execution_count": 61,
     "metadata": {},
     "output_type": "execute_result"
    }
   ],
   "source": [
    "x_test"
   ]
  },
  {
   "cell_type": "code",
   "execution_count": 62,
   "id": "6779564b-1b0f-4896-af7c-e32dcd47d475",
   "metadata": {
    "tags": []
   },
   "outputs": [],
   "source": [
    "import keras\n",
    "from keras.models import Sequential\n",
    "from keras.layers import Dense"
   ]
  },
  {
   "cell_type": "code",
   "execution_count": 63,
   "id": "1d55cdf1-140e-4942-abd7-a177dee249c1",
   "metadata": {
    "tags": []
   },
   "outputs": [],
   "source": [
    "# Adding the input and first hidden layer\n",
    "classifier = Sequential()\n",
    "classifier.add(Dense(units=16, kernel_initializer='uniform', activation='relu', input_dim=30))\n",
    "\n",
    "# Adding the second hidden layer\n",
    "classifier.add(Dense(units=16, kernel_initializer='uniform', activation='relu'))\n",
    "\n",
    "# Adding the output layer\n",
    "classifier.add(Dense(units=1, kernel_initializer='uniform', activation='sigmoid'))\n"
   ]
  },
  {
   "cell_type": "code",
   "execution_count": 64,
   "id": "1ab6ade3-50ef-4e6d-859f-678920a2ac78",
   "metadata": {
    "tags": []
   },
   "outputs": [],
   "source": [
    "classifier.compile(optimizer='Adam', loss='binary_crossentropy', metrics=['accuracy'])"
   ]
  },
  {
   "cell_type": "code",
   "execution_count": 65,
   "id": "c7489606-c894-4121-b4d4-06db1b562d51",
   "metadata": {
    "tags": []
   },
   "outputs": [
    {
     "name": "stdout",
     "output_type": "stream",
     "text": [
      "Epoch 1/150\n",
      "5/5 [==============================] - 1s 3ms/step - loss: 0.6923 - accuracy: 0.7451\n",
      "Epoch 2/150\n",
      "5/5 [==============================] - 0s 4ms/step - loss: 0.6883 - accuracy: 1.0000\n",
      "Epoch 3/150\n",
      "5/5 [==============================] - 0s 3ms/step - loss: 0.6840 - accuracy: 1.0000\n",
      "Epoch 4/150\n",
      "5/5 [==============================] - 0s 3ms/step - loss: 0.6789 - accuracy: 1.0000\n",
      "Epoch 5/150\n",
      "5/5 [==============================] - 0s 3ms/step - loss: 0.6722 - accuracy: 1.0000\n",
      "Epoch 6/150\n",
      "5/5 [==============================] - 0s 3ms/step - loss: 0.6636 - accuracy: 1.0000\n",
      "Epoch 7/150\n",
      "5/5 [==============================] - 0s 3ms/step - loss: 0.6521 - accuracy: 1.0000\n",
      "Epoch 8/150\n",
      "5/5 [==============================] - 0s 3ms/step - loss: 0.6369 - accuracy: 1.0000\n",
      "Epoch 9/150\n",
      "5/5 [==============================] - 0s 2ms/step - loss: 0.6170 - accuracy: 1.0000\n",
      "Epoch 10/150\n",
      "5/5 [==============================] - 0s 3ms/step - loss: 0.5912 - accuracy: 1.0000\n",
      "Epoch 11/150\n",
      "5/5 [==============================] - 0s 2ms/step - loss: 0.5593 - accuracy: 1.0000\n",
      "Epoch 12/150\n",
      "5/5 [==============================] - 0s 2ms/step - loss: 0.5203 - accuracy: 1.0000\n",
      "Epoch 13/150\n",
      "5/5 [==============================] - 0s 2ms/step - loss: 0.4763 - accuracy: 1.0000\n",
      "Epoch 14/150\n",
      "5/5 [==============================] - 0s 3ms/step - loss: 0.4278 - accuracy: 1.0000\n",
      "Epoch 15/150\n",
      "5/5 [==============================] - 0s 3ms/step - loss: 0.3774 - accuracy: 1.0000\n",
      "Epoch 16/150\n",
      "5/5 [==============================] - 0s 2ms/step - loss: 0.3280 - accuracy: 1.0000\n",
      "Epoch 17/150\n",
      "5/5 [==============================] - 0s 3ms/step - loss: 0.2815 - accuracy: 1.0000\n",
      "Epoch 18/150\n",
      "5/5 [==============================] - 0s 2ms/step - loss: 0.2402 - accuracy: 1.0000\n",
      "Epoch 19/150\n",
      "5/5 [==============================] - 0s 2ms/step - loss: 0.2045 - accuracy: 1.0000\n",
      "Epoch 20/150\n",
      "5/5 [==============================] - 0s 2ms/step - loss: 0.1746 - accuracy: 1.0000\n",
      "Epoch 21/150\n",
      "5/5 [==============================] - 0s 3ms/step - loss: 0.1491 - accuracy: 1.0000\n",
      "Epoch 22/150\n",
      "5/5 [==============================] - 0s 2ms/step - loss: 0.1287 - accuracy: 1.0000\n",
      "Epoch 23/150\n",
      "5/5 [==============================] - 0s 2ms/step - loss: 0.1119 - accuracy: 1.0000\n",
      "Epoch 24/150\n",
      "5/5 [==============================] - 0s 3ms/step - loss: 0.0980 - accuracy: 1.0000\n",
      "Epoch 25/150\n",
      "5/5 [==============================] - 0s 2ms/step - loss: 0.0863 - accuracy: 1.0000\n",
      "Epoch 26/150\n",
      "5/5 [==============================] - 0s 2ms/step - loss: 0.0768 - accuracy: 1.0000\n",
      "Epoch 27/150\n",
      "5/5 [==============================] - 0s 2ms/step - loss: 0.0685 - accuracy: 1.0000\n",
      "Epoch 28/150\n",
      "5/5 [==============================] - 0s 3ms/step - loss: 0.0616 - accuracy: 1.0000\n",
      "Epoch 29/150\n",
      "5/5 [==============================] - 0s 2ms/step - loss: 0.0557 - accuracy: 1.0000\n",
      "Epoch 30/150\n",
      "5/5 [==============================] - 0s 3ms/step - loss: 0.0504 - accuracy: 1.0000\n",
      "Epoch 31/150\n",
      "5/5 [==============================] - 0s 2ms/step - loss: 0.0458 - accuracy: 1.0000\n",
      "Epoch 32/150\n",
      "5/5 [==============================] - 0s 3ms/step - loss: 0.0415 - accuracy: 1.0000\n",
      "Epoch 33/150\n",
      "5/5 [==============================] - 0s 2ms/step - loss: 0.0377 - accuracy: 1.0000\n",
      "Epoch 34/150\n",
      "5/5 [==============================] - 0s 3ms/step - loss: 0.0342 - accuracy: 1.0000\n",
      "Epoch 35/150\n",
      "5/5 [==============================] - 0s 2ms/step - loss: 0.0311 - accuracy: 1.0000\n",
      "Epoch 36/150\n",
      "5/5 [==============================] - 0s 2ms/step - loss: 0.0283 - accuracy: 1.0000\n",
      "Epoch 37/150\n",
      "5/5 [==============================] - 0s 3ms/step - loss: 0.0257 - accuracy: 1.0000\n",
      "Epoch 38/150\n",
      "5/5 [==============================] - 0s 2ms/step - loss: 0.0234 - accuracy: 1.0000\n",
      "Epoch 39/150\n",
      "5/5 [==============================] - 0s 3ms/step - loss: 0.0214 - accuracy: 1.0000\n",
      "Epoch 40/150\n",
      "5/5 [==============================] - 0s 2ms/step - loss: 0.0196 - accuracy: 1.0000\n",
      "Epoch 41/150\n",
      "5/5 [==============================] - 0s 2ms/step - loss: 0.0179 - accuracy: 1.0000\n",
      "Epoch 42/150\n",
      "5/5 [==============================] - 0s 3ms/step - loss: 0.0164 - accuracy: 1.0000\n",
      "Epoch 43/150\n",
      "5/5 [==============================] - 0s 2ms/step - loss: 0.0151 - accuracy: 1.0000\n",
      "Epoch 44/150\n",
      "5/5 [==============================] - 0s 2ms/step - loss: 0.0139 - accuracy: 1.0000\n",
      "Epoch 45/150\n",
      "5/5 [==============================] - 0s 2ms/step - loss: 0.0128 - accuracy: 1.0000\n",
      "Epoch 46/150\n",
      "5/5 [==============================] - 0s 2ms/step - loss: 0.0119 - accuracy: 1.0000\n",
      "Epoch 47/150\n",
      "5/5 [==============================] - 0s 2ms/step - loss: 0.0109 - accuracy: 1.0000\n",
      "Epoch 48/150\n",
      "5/5 [==============================] - 0s 3ms/step - loss: 0.0101 - accuracy: 1.0000\n",
      "Epoch 49/150\n",
      "5/5 [==============================] - 0s 2ms/step - loss: 0.0093 - accuracy: 1.0000\n",
      "Epoch 50/150\n",
      "5/5 [==============================] - 0s 2ms/step - loss: 0.0085 - accuracy: 1.0000\n",
      "Epoch 51/150\n",
      "5/5 [==============================] - 0s 2ms/step - loss: 0.0078 - accuracy: 1.0000\n",
      "Epoch 52/150\n",
      "5/5 [==============================] - 0s 2ms/step - loss: 0.0072 - accuracy: 1.0000\n",
      "Epoch 53/150\n",
      "5/5 [==============================] - 0s 2ms/step - loss: 0.0066 - accuracy: 1.0000\n",
      "Epoch 54/150\n",
      "5/5 [==============================] - 0s 2ms/step - loss: 0.0060 - accuracy: 1.0000\n",
      "Epoch 55/150\n",
      "5/5 [==============================] - 0s 2ms/step - loss: 0.0055 - accuracy: 1.0000\n",
      "Epoch 56/150\n",
      "5/5 [==============================] - 0s 2ms/step - loss: 0.0051 - accuracy: 1.0000\n",
      "Epoch 57/150\n",
      "5/5 [==============================] - 0s 2ms/step - loss: 0.0046 - accuracy: 1.0000\n",
      "Epoch 58/150\n",
      "5/5 [==============================] - 0s 2ms/step - loss: 0.0042 - accuracy: 1.0000\n",
      "Epoch 59/150\n",
      "5/5 [==============================] - 0s 2ms/step - loss: 0.0039 - accuracy: 1.0000\n",
      "Epoch 60/150\n",
      "5/5 [==============================] - 0s 3ms/step - loss: 0.0036 - accuracy: 1.0000\n",
      "Epoch 61/150\n",
      "5/5 [==============================] - 0s 2ms/step - loss: 0.0033 - accuracy: 1.0000\n",
      "Epoch 62/150\n",
      "5/5 [==============================] - 0s 2ms/step - loss: 0.0031 - accuracy: 1.0000\n",
      "Epoch 63/150\n",
      "5/5 [==============================] - 0s 2ms/step - loss: 0.0028 - accuracy: 1.0000\n",
      "Epoch 64/150\n",
      "5/5 [==============================] - 0s 2ms/step - loss: 0.0026 - accuracy: 1.0000\n",
      "Epoch 65/150\n",
      "5/5 [==============================] - 0s 2ms/step - loss: 0.0025 - accuracy: 1.0000\n",
      "Epoch 66/150\n",
      "5/5 [==============================] - 0s 3ms/step - loss: 0.0023 - accuracy: 1.0000\n",
      "Epoch 67/150\n",
      "5/5 [==============================] - 0s 2ms/step - loss: 0.0021 - accuracy: 1.0000\n",
      "Epoch 68/150\n",
      "5/5 [==============================] - 0s 2ms/step - loss: 0.0020 - accuracy: 1.0000\n",
      "Epoch 69/150\n",
      "5/5 [==============================] - 0s 2ms/step - loss: 0.0019 - accuracy: 1.0000\n",
      "Epoch 70/150\n",
      "5/5 [==============================] - 0s 2ms/step - loss: 0.0018 - accuracy: 1.0000\n",
      "Epoch 71/150\n",
      "5/5 [==============================] - 0s 2ms/step - loss: 0.0017 - accuracy: 1.0000\n",
      "Epoch 72/150\n",
      "5/5 [==============================] - 0s 2ms/step - loss: 0.0016 - accuracy: 1.0000\n",
      "Epoch 73/150\n",
      "5/5 [==============================] - 0s 2ms/step - loss: 0.0015 - accuracy: 1.0000\n",
      "Epoch 74/150\n",
      "5/5 [==============================] - 0s 3ms/step - loss: 0.0014 - accuracy: 1.0000\n",
      "Epoch 75/150\n",
      "5/5 [==============================] - 0s 2ms/step - loss: 0.0013 - accuracy: 1.0000\n",
      "Epoch 76/150\n",
      "5/5 [==============================] - 0s 5ms/step - loss: 0.0013 - accuracy: 1.0000\n",
      "Epoch 77/150\n",
      "5/5 [==============================] - 0s 2ms/step - loss: 0.0012 - accuracy: 1.0000\n",
      "Epoch 78/150\n",
      "5/5 [==============================] - 0s 2ms/step - loss: 0.0011 - accuracy: 1.0000\n",
      "Epoch 79/150\n",
      "5/5 [==============================] - 0s 2ms/step - loss: 0.0011 - accuracy: 1.0000\n",
      "Epoch 80/150\n",
      "5/5 [==============================] - 0s 2ms/step - loss: 0.0010 - accuracy: 1.0000\n",
      "Epoch 81/150\n",
      "5/5 [==============================] - 0s 2ms/step - loss: 9.8721e-04 - accuracy: 1.0000\n",
      "Epoch 82/150\n",
      "5/5 [==============================] - 0s 2ms/step - loss: 9.4569e-04 - accuracy: 1.0000\n",
      "Epoch 83/150\n",
      "5/5 [==============================] - 0s 2ms/step - loss: 9.0546e-04 - accuracy: 1.0000\n",
      "Epoch 84/150\n",
      "5/5 [==============================] - 0s 3ms/step - loss: 8.6561e-04 - accuracy: 1.0000\n",
      "Epoch 85/150\n",
      "5/5 [==============================] - 0s 2ms/step - loss: 8.2940e-04 - accuracy: 1.0000\n",
      "Epoch 86/150\n",
      "5/5 [==============================] - 0s 3ms/step - loss: 7.9587e-04 - accuracy: 1.0000\n",
      "Epoch 87/150\n",
      "5/5 [==============================] - 0s 2ms/step - loss: 7.6435e-04 - accuracy: 1.0000\n",
      "Epoch 88/150\n",
      "5/5 [==============================] - 0s 2ms/step - loss: 7.3570e-04 - accuracy: 1.0000\n",
      "Epoch 89/150\n",
      "5/5 [==============================] - 0s 2ms/step - loss: 7.0710e-04 - accuracy: 1.0000\n",
      "Epoch 90/150\n",
      "5/5 [==============================] - 0s 2ms/step - loss: 6.7994e-04 - accuracy: 1.0000\n",
      "Epoch 91/150\n",
      "5/5 [==============================] - 0s 3ms/step - loss: 6.5464e-04 - accuracy: 1.0000\n",
      "Epoch 92/150\n",
      "5/5 [==============================] - 0s 2ms/step - loss: 6.3207e-04 - accuracy: 1.0000\n",
      "Epoch 93/150\n",
      "5/5 [==============================] - 0s 2ms/step - loss: 6.0974e-04 - accuracy: 1.0000\n",
      "Epoch 94/150\n",
      "5/5 [==============================] - 0s 2ms/step - loss: 5.8888e-04 - accuracy: 1.0000\n",
      "Epoch 95/150\n",
      "5/5 [==============================] - 0s 2ms/step - loss: 5.6704e-04 - accuracy: 1.0000\n",
      "Epoch 96/150\n",
      "5/5 [==============================] - 0s 2ms/step - loss: 5.4904e-04 - accuracy: 1.0000\n",
      "Epoch 97/150\n",
      "5/5 [==============================] - 0s 2ms/step - loss: 5.3209e-04 - accuracy: 1.0000\n",
      "Epoch 98/150\n",
      "5/5 [==============================] - 0s 2ms/step - loss: 5.1423e-04 - accuracy: 1.0000\n",
      "Epoch 99/150\n",
      "5/5 [==============================] - 0s 3ms/step - loss: 4.9644e-04 - accuracy: 1.0000\n",
      "Epoch 100/150\n",
      "5/5 [==============================] - 0s 3ms/step - loss: 4.8151e-04 - accuracy: 1.0000\n",
      "Epoch 101/150\n",
      "5/5 [==============================] - 0s 2ms/step - loss: 4.6673e-04 - accuracy: 1.0000\n",
      "Epoch 102/150\n",
      "5/5 [==============================] - 0s 3ms/step - loss: 4.5311e-04 - accuracy: 1.0000\n",
      "Epoch 103/150\n",
      "5/5 [==============================] - 0s 2ms/step - loss: 4.3920e-04 - accuracy: 1.0000\n",
      "Epoch 104/150\n",
      "5/5 [==============================] - 0s 2ms/step - loss: 4.2518e-04 - accuracy: 1.0000\n",
      "Epoch 105/150\n",
      "5/5 [==============================] - 0s 2ms/step - loss: 4.1360e-04 - accuracy: 1.0000\n",
      "Epoch 106/150\n",
      "5/5 [==============================] - 0s 2ms/step - loss: 4.0192e-04 - accuracy: 1.0000\n",
      "Epoch 107/150\n",
      "5/5 [==============================] - 0s 2ms/step - loss: 3.9089e-04 - accuracy: 1.0000\n",
      "Epoch 108/150\n",
      "5/5 [==============================] - 0s 2ms/step - loss: 3.8036e-04 - accuracy: 1.0000\n",
      "Epoch 109/150\n",
      "5/5 [==============================] - 0s 2ms/step - loss: 3.6891e-04 - accuracy: 1.0000\n",
      "Epoch 110/150\n",
      "5/5 [==============================] - 0s 2ms/step - loss: 3.5924e-04 - accuracy: 1.0000\n",
      "Epoch 111/150\n",
      "5/5 [==============================] - 0s 2ms/step - loss: 3.4983e-04 - accuracy: 1.0000\n",
      "Epoch 112/150\n",
      "5/5 [==============================] - 0s 2ms/step - loss: 3.4035e-04 - accuracy: 1.0000\n",
      "Epoch 113/150\n",
      "5/5 [==============================] - 0s 3ms/step - loss: 3.3127e-04 - accuracy: 1.0000\n",
      "Epoch 114/150\n",
      "5/5 [==============================] - 0s 2ms/step - loss: 3.2304e-04 - accuracy: 1.0000\n",
      "Epoch 115/150\n",
      "5/5 [==============================] - 0s 2ms/step - loss: 3.1461e-04 - accuracy: 1.0000\n",
      "Epoch 116/150\n",
      "5/5 [==============================] - 0s 3ms/step - loss: 3.0703e-04 - accuracy: 1.0000\n",
      "Epoch 117/150\n",
      "5/5 [==============================] - 0s 2ms/step - loss: 2.9937e-04 - accuracy: 1.0000\n",
      "Epoch 118/150\n",
      "5/5 [==============================] - 0s 2ms/step - loss: 2.9308e-04 - accuracy: 1.0000\n",
      "Epoch 119/150\n",
      "5/5 [==============================] - 0s 2ms/step - loss: 2.8583e-04 - accuracy: 1.0000\n",
      "Epoch 120/150\n",
      "5/5 [==============================] - 0s 2ms/step - loss: 2.7896e-04 - accuracy: 1.0000\n",
      "Epoch 121/150\n",
      "5/5 [==============================] - 0s 3ms/step - loss: 2.7271e-04 - accuracy: 1.0000\n",
      "Epoch 122/150\n",
      "5/5 [==============================] - 0s 2ms/step - loss: 2.6618e-04 - accuracy: 1.0000\n",
      "Epoch 123/150\n",
      "5/5 [==============================] - 0s 2ms/step - loss: 2.6014e-04 - accuracy: 1.0000\n",
      "Epoch 124/150\n",
      "5/5 [==============================] - 0s 2ms/step - loss: 2.5428e-04 - accuracy: 1.0000\n",
      "Epoch 125/150\n",
      "5/5 [==============================] - 0s 2ms/step - loss: 2.4900e-04 - accuracy: 1.0000\n",
      "Epoch 126/150\n",
      "5/5 [==============================] - 0s 2ms/step - loss: 2.4284e-04 - accuracy: 1.0000\n",
      "Epoch 127/150\n",
      "5/5 [==============================] - 0s 2ms/step - loss: 2.3770e-04 - accuracy: 1.0000\n",
      "Epoch 128/150\n",
      "5/5 [==============================] - 0s 2ms/step - loss: 2.3267e-04 - accuracy: 1.0000\n",
      "Epoch 129/150\n",
      "5/5 [==============================] - 0s 2ms/step - loss: 2.2749e-04 - accuracy: 1.0000\n",
      "Epoch 130/150\n",
      "5/5 [==============================] - 0s 3ms/step - loss: 2.2287e-04 - accuracy: 1.0000\n",
      "Epoch 131/150\n",
      "5/5 [==============================] - 0s 2ms/step - loss: 2.1806e-04 - accuracy: 1.0000\n",
      "Epoch 132/150\n",
      "5/5 [==============================] - 0s 2ms/step - loss: 2.1385e-04 - accuracy: 1.0000\n",
      "Epoch 133/150\n",
      "5/5 [==============================] - 0s 2ms/step - loss: 2.0926e-04 - accuracy: 1.0000\n",
      "Epoch 134/150\n",
      "5/5 [==============================] - 0s 2ms/step - loss: 2.0530e-04 - accuracy: 1.0000\n",
      "Epoch 135/150\n",
      "5/5 [==============================] - 0s 2ms/step - loss: 2.0106e-04 - accuracy: 1.0000\n",
      "Epoch 136/150\n",
      "5/5 [==============================] - 0s 3ms/step - loss: 1.9735e-04 - accuracy: 1.0000\n",
      "Epoch 137/150\n",
      "5/5 [==============================] - 0s 2ms/step - loss: 1.9335e-04 - accuracy: 1.0000\n",
      "Epoch 138/150\n",
      "5/5 [==============================] - 0s 2ms/step - loss: 1.8991e-04 - accuracy: 1.0000\n",
      "Epoch 139/150\n",
      "5/5 [==============================] - 0s 2ms/step - loss: 1.8573e-04 - accuracy: 1.0000\n",
      "Epoch 140/150\n",
      "5/5 [==============================] - 0s 2ms/step - loss: 1.8247e-04 - accuracy: 1.0000\n",
      "Epoch 141/150\n",
      "5/5 [==============================] - 0s 2ms/step - loss: 1.7896e-04 - accuracy: 1.0000\n",
      "Epoch 142/150\n",
      "5/5 [==============================] - 0s 2ms/step - loss: 1.7562e-04 - accuracy: 1.0000\n",
      "Epoch 143/150\n",
      "5/5 [==============================] - 0s 2ms/step - loss: 1.7252e-04 - accuracy: 1.0000\n",
      "Epoch 144/150\n",
      "5/5 [==============================] - 0s 2ms/step - loss: 1.6916e-04 - accuracy: 1.0000\n",
      "Epoch 145/150\n",
      "5/5 [==============================] - 0s 2ms/step - loss: 1.6619e-04 - accuracy: 1.0000\n",
      "Epoch 146/150\n",
      "5/5 [==============================] - 0s 2ms/step - loss: 1.6303e-04 - accuracy: 1.0000\n",
      "Epoch 147/150\n",
      "5/5 [==============================] - 0s 3ms/step - loss: 1.6028e-04 - accuracy: 1.0000\n",
      "Epoch 148/150\n",
      "5/5 [==============================] - 0s 2ms/step - loss: 1.5734e-04 - accuracy: 1.0000\n",
      "Epoch 149/150\n",
      "5/5 [==============================] - 0s 2ms/step - loss: 1.5455e-04 - accuracy: 1.0000\n",
      "Epoch 150/150\n",
      "5/5 [==============================] - 0s 2ms/step - loss: 1.5195e-04 - accuracy: 1.0000\n"
     ]
    },
    {
     "data": {
      "text/plain": [
       "<keras.callbacks.History at 0x263fda00d90>"
      ]
     },
     "execution_count": 65,
     "metadata": {},
     "output_type": "execute_result"
    }
   ],
   "source": [
    "classifier.fit(x_train, y_train, batch_size=100, epochs=150)\n"
   ]
  },
  {
   "cell_type": "code",
   "execution_count": 66,
   "id": "75c9ca8e-62b2-49ae-a013-b11638651ea8",
   "metadata": {
    "tags": []
   },
   "outputs": [
    {
     "data": {
      "text/plain": [
       "array([[-0.20175604,  0.3290786 , -0.13086754, ...,  1.3893291 ,\n",
       "         1.08203284,  1.54029664],\n",
       "       [-0.25555773,  1.46763319, -0.31780437, ..., -0.83369364,\n",
       "        -0.73131577, -0.87732522],\n",
       "       [-0.02619262, -0.8407682 , -0.09175081, ..., -0.49483785,\n",
       "        -1.22080864, -0.92115937],\n",
       "       ...,\n",
       "       [ 1.71811488,  0.09318356,  1.7286186 , ...,  1.57630515,\n",
       "         0.20317063, -0.15406178],\n",
       "       [ 1.18859296,  0.34352115,  1.19333694, ...,  0.56019755,\n",
       "         0.26991966, -0.27320074],\n",
       "       [ 0.26263752, -0.58080224,  0.28459338, ..., -0.19383705,\n",
       "        -1.15564888,  0.11231497]])"
      ]
     },
     "execution_count": 66,
     "metadata": {},
     "output_type": "execute_result"
    }
   ],
   "source": [
    "x_test"
   ]
  },
  {
   "cell_type": "code",
   "execution_count": 67,
   "id": "176f8471-f10f-490b-982d-f59cea6c3d69",
   "metadata": {
    "tags": []
   },
   "outputs": [
    {
     "name": "stdout",
     "output_type": "stream",
     "text": [
      "4/4 [==============================] - 0s 2ms/step\n"
     ]
    }
   ],
   "source": [
    "# Predicting the Test set result\n",
    "y_pred = classifier.predict(x_test)\n",
    "y_pred = (y_pred > 0.5)"
   ]
  },
  {
   "cell_type": "code",
   "execution_count": 68,
   "id": "3a5dd237-b81e-49a6-8438-a594160face8",
   "metadata": {
    "tags": []
   },
   "outputs": [],
   "source": [
    "from sklearn.metrics import confusion_matrix\n",
    "cm = confusion_matrix(y_test, y_pred)\n"
   ]
  },
  {
   "cell_type": "code",
   "execution_count": 69,
   "id": "b2b4d8a8-d288-41c1-8268-fcd8f328ea03",
   "metadata": {
    "tags": []
   },
   "outputs": [
    {
     "data": {
      "text/plain": [
       "array([[114]], dtype=int64)"
      ]
     },
     "execution_count": 69,
     "metadata": {},
     "output_type": "execute_result"
    }
   ],
   "source": [
    "cm"
   ]
  },
  {
   "cell_type": "code",
   "execution_count": 70,
   "id": "d0110f36-87d6-4597-aa1f-94a0b3c4f3cb",
   "metadata": {
    "tags": []
   },
   "outputs": [
    {
     "data": {
      "image/png": "[encoded data removed]",
      "text/plain": [
       "<Figure size 640x480 with 2 Axes>"
      ]
     },
     "metadata": {},
     "output_type": "display_data"
    }
   ],
   "source": [
    "sns.heatmap(cm, annot=True)\n",
    "plt.savefig('h.png')"
   ]
  }
 ],
 "metadata": {
  "kernelspec": {
   "display_name": "Python 3 (ipykernel)",
   "language": "python",
   "name": "python3"
  },
  "language_info": {
   "codemirror_mode": {
    "name": "ipython",
    "version": 3
   },
   "file_extension": ".py",
   "mimetype": "text/x-python",
   "name": "python",
   "nbconvert_exporter": "python",
   "pygments_lexer": "ipython3",
   "version": "3.11.1"
  }
 },
 "nbformat": 4,
 "nbformat_minor": 5
}
