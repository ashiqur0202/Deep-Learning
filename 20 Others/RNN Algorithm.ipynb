{
 "cells": [
  {
   "cell_type": "markdown",
   "id": "060b7845-01ed-43a0-b5dd-925afafdebb6",
   "metadata": {},
   "source": [
    "A Recurrent Neural Network (RNN) is a type of neural network that is designed to process sequential data, such as time-series data or natural language text. Unlike feedforward neural networks, which process data in a single pass, RNNs are able to maintain an internal state or memory that allows them to process sequences of inputs.\n",
    "\n",
    "The key feature of an RNN is that it has recurrent connections between hidden layers, which allow the network to retain information from previous inputs and use it to inform future predictions. These connections create loops in the network architecture, allowing the output of a previous time step to be fed back into the network as input to the current time step.\n",
    "\n",
    "There are several types of RNN cells, including Simple RNNs, Long Short-Term Memory (LSTM) cells, and Gated Recurrent Units (GRUs).\n",
    "\n",
    "Simple RNNs are the most basic type of RNN and have a single layer of recurrent neurons. However, they suffer from the vanishing gradient problem, which can limit their ability to retain information over long sequences.\n",
    "\n",
    "LSTM cells and GRUs were introduced to address the vanishing gradient problem. They have additional gates and mechanisms for controlling the flow of information in and out of the memory cells, which allows them to retain information over longer sequences.\n",
    "\n",
    "RNNs have been applied to a wide range of tasks, including language modeling, speech recognition, machine translation, and image captioning. They are particularly well-suited to tasks that involve sequential data and can achieve state-of-the-art performance in many domains."
   ]
  },
  {
   "cell_type": "markdown",
   "id": "c50a580c-a7af-4736-9e05-e59eca6f45ce",
   "metadata": {},
   "source": [
    "__Load the dataset:__ Load the dataset you want to use for training and testing your RNN model. This may involve downloading the data, preprocessing it, and splitting it into training and testing sets.\n",
    "\n",
    "__Preprocess the data:__ Preprocess the data as necessary to prepare it for input to the RNN model. This may include scaling the data, converting it to the appropriate format, and splitting it into input sequences and target sequences.\n",
    "\n",
    "__Define the RNN model:__ Define the RNN model using the TensorFlow Keras API. This may involve defining the type of RNN cell to use, the number of hidden layers, the activation function, and other hyperparameters.\n",
    "\n",
    "__Compile the model:__ Compile the RNN model using the appropriate optimizer, loss function, and evaluation metrics.\n",
    "\n",
    "__Train the model:__ Train the RNN model using the fit() method, passing in the training data and labels.\n",
    "\n",
    "__Evaluate the model:__ Evaluate the performance of the RNN model using the test data and labels. This can be done using the evaluate() method.\n",
    "\n",
    "__Make predictions:__ Use the trained RNN model to make predictions on new data using the predict() method."
   ]
  },
  {
   "cell_type": "code",
   "execution_count": 1,
   "id": "0efce1f3-d6eb-4242-b417-7de9f9edf459",
   "metadata": {
    "tags": []
   },
   "outputs": [],
   "source": [
    "import tensorflow as tf\n",
    "from tensorflow import keras\n",
    "from tensorflow.keras import layers"
   ]
  },
  {
   "cell_type": "code",
   "execution_count": 2,
   "id": "1246a496-3e91-45b1-8780-1b056d3d3423",
   "metadata": {
    "tags": []
   },
   "outputs": [
    {
     "name": "stdout",
     "output_type": "stream",
     "text": [
      "Downloading data from https://storage.googleapis.com/tensorflow/tf-keras-datasets/imdb.npz\n",
      "17464789/17464789 [==============================] - 6s 0us/step\n"
     ]
    }
   ],
   "source": [
    "# Load the IMDB movie review dataset\n",
    "(x_train, y_train), (x_test, y_test) = keras.datasets.imdb.load_data(num_words=10000)\n"
   ]
  },
  {
   "cell_type": "code",
   "execution_count": 3,
   "id": "fb2b9c30-da9e-41be-9034-fde70d93ef05",
   "metadata": {
    "tags": []
   },
   "outputs": [],
   "source": [
    "# Preprocess the data\n",
    "maxlen = 200\n",
    "x_train = keras.preprocessing.sequence.pad_sequences(x_train, maxlen=maxlen)\n",
    "x_test = keras.preprocessing.sequence.pad_sequences(x_test, maxlen=maxlen)\n"
   ]
  },
  {
   "cell_type": "code",
   "execution_count": 4,
   "id": "836a3bd4-634d-4a2b-8bc3-4c301c129bc3",
   "metadata": {
    "tags": []
   },
   "outputs": [],
   "source": [
    "# Define the RNN model\n",
    "model = keras.Sequential()\n",
    "model.add(layers.Embedding(input_dim=10000, output_dim=32))\n",
    "model.add(layers.SimpleRNN(32))\n",
    "model.add(layers.Dense(1, activation='sigmoid'))\n"
   ]
  },
  {
   "cell_type": "code",
   "execution_count": 5,
   "id": "12b757cd-e040-45b5-8129-c67278b60e6e",
   "metadata": {
    "tags": []
   },
   "outputs": [],
   "source": [
    "# Compile the model\n",
    "model.compile(optimizer='rmsprop', loss='binary_crossentropy', metrics=['accuracy'])\n"
   ]
  },
  {
   "cell_type": "code",
   "execution_count": 6,
   "id": "f1800925-a2b2-4ca2-9aab-41d9b595d56d",
   "metadata": {
    "tags": []
   },
   "outputs": [
    {
     "name": "stdout",
     "output_type": "stream",
     "text": [
      "Epoch 1/10\n",
      "157/157 [==============================] - 11s 64ms/step - loss: 0.5804 - accuracy: 0.6873 - val_loss: 0.4455 - val_accuracy: 0.8006\n",
      "Epoch 2/10\n",
      "157/157 [==============================] - 9s 56ms/step - loss: 0.3733 - accuracy: 0.8450 - val_loss: 0.3622 - val_accuracy: 0.8470\n",
      "Epoch 3/10\n",
      "157/157 [==============================] - 9s 56ms/step - loss: 0.2878 - accuracy: 0.8874 - val_loss: 0.3344 - val_accuracy: 0.8628\n",
      "Epoch 4/10\n",
      "157/157 [==============================] - 8s 53ms/step - loss: 0.2347 - accuracy: 0.9100 - val_loss: 0.4599 - val_accuracy: 0.8300\n",
      "Epoch 5/10\n",
      "157/157 [==============================] - 8s 52ms/step - loss: 0.1931 - accuracy: 0.9274 - val_loss: 0.4006 - val_accuracy: 0.8440\n",
      "Epoch 6/10\n",
      "157/157 [==============================] - 8s 53ms/step - loss: 0.1469 - accuracy: 0.9460 - val_loss: 0.3698 - val_accuracy: 0.8572\n",
      "Epoch 7/10\n",
      "157/157 [==============================] - 8s 52ms/step - loss: 0.1137 - accuracy: 0.9603 - val_loss: 0.4545 - val_accuracy: 0.8228\n",
      "Epoch 8/10\n",
      "157/157 [==============================] - 8s 52ms/step - loss: 0.0796 - accuracy: 0.9739 - val_loss: 0.4723 - val_accuracy: 0.8566\n",
      "Epoch 9/10\n",
      "157/157 [==============================] - 10s 61ms/step - loss: 0.0567 - accuracy: 0.9825 - val_loss: 0.5046 - val_accuracy: 0.8512\n",
      "Epoch 10/10\n",
      "157/157 [==============================] - 10s 64ms/step - loss: 0.0478 - accuracy: 0.9854 - val_loss: 0.5404 - val_accuracy: 0.8296\n"
     ]
    },
    {
     "data": {
      "text/plain": [
       "<keras.callbacks.History at 0x1ca2af4dad0>"
      ]
     },
     "execution_count": 6,
     "metadata": {},
     "output_type": "execute_result"
    }
   ],
   "source": [
    "# Train the model\n",
    "model.fit(x_train, y_train, epochs=10, batch_size=128, validation_split=0.2)\n"
   ]
  },
  {
   "cell_type": "code",
   "execution_count": 7,
   "id": "6802c641-adfd-44ea-991f-549b6e68b332",
   "metadata": {
    "tags": []
   },
   "outputs": [
    {
     "name": "stdout",
     "output_type": "stream",
     "text": [
      "196/196 [==============================] - 3s 15ms/step - loss: 0.5622 - accuracy: 0.8260\n",
      "Test loss: 0.5622498989105225\n",
      "Test accuracy: 0.8259999752044678\n"
     ]
    }
   ],
   "source": [
    "# Evaluate the model\n",
    "score = model.evaluate(x_test, y_test, batch_size=128)\n",
    "print('Test loss:', score[0])\n",
    "print('Test accuracy:', score[1])\n"
   ]
  },
  {
   "cell_type": "code",
   "execution_count": 8,
   "id": "2ab8effc-1fe4-4cdb-9db4-2145e830166b",
   "metadata": {
    "tags": []
   },
   "outputs": [
    {
     "name": "stdout",
     "output_type": "stream",
     "text": [
      "1/1 [==============================] - 0s 429ms/step\n"
     ]
    }
   ],
   "source": [
    "\n",
    "# Make predictions\n",
    "predictions = model.predict(x_test[:10])"
   ]
  },
  {
   "cell_type": "code",
   "execution_count": 9,
   "id": "c36c0a01-4b4d-41ba-93ba-6ca4e00a8344",
   "metadata": {
    "tags": []
   },
   "outputs": [
    {
     "data": {
      "text/plain": [
       "array([[0.00505365],\n",
       "       [0.9942313 ],\n",
       "       [0.6951495 ],\n",
       "       [0.18061104],\n",
       "       [0.98632884],\n",
       "       [0.5684499 ],\n",
       "       [0.99724984],\n",
       "       [0.02967775],\n",
       "       [0.9409956 ],\n",
       "       [0.977423  ]], dtype=float32)"
      ]
     },
     "execution_count": 9,
     "metadata": {},
     "output_type": "execute_result"
    }
   ],
   "source": [
    "predictions"
   ]
  },
  {
   "cell_type": "code",
   "execution_count": null,
   "id": "90d1a129-4256-403a-814f-97171813b8e8",
   "metadata": {},
   "outputs": [],
   "source": []
  }
 ],
 "metadata": {
  "kernelspec": {
   "display_name": "Python 3 (ipykernel)",
   "language": "python",
   "name": "python3"
  },
  "language_info": {
   "codemirror_mode": {
    "name": "ipython",
    "version": 3
   },
   "file_extension": ".py",
   "mimetype": "text/x-python",
   "name": "python",
   "nbconvert_exporter": "python",
   "pygments_lexer": "ipython3",
   "version": "3.11.1"
  }
 },
 "nbformat": 4,
 "nbformat_minor": 5
}
