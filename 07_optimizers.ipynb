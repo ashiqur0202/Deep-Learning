{
 "cells": [
  {
   "cell_type": "markdown",
   "metadata": {},
   "source": [
    "# Optimizers"
   ]
  },
  {
   "cell_type": "markdown",
   "metadata": {},
   "source": [
    "## Adagrad\n",
    "## Adadelta\n",
    "## Adam\n",
    "## Conjugate Gradients\n",
    "## BFGS\n",
    "## Momentum\n",
    "## Nesterov Momentum\n",
    "## Newton’s Method\n",
    "## RMSProp\n",
    "## SGD"
   ]
  },
  {
   "cell_type": "markdown",
   "metadata": {},
   "source": []
  }
 ],
 "metadata": {
  "language_info": {
   "name": "python"
  }
 },
 "nbformat": 4,
 "nbformat_minor": 2
}
