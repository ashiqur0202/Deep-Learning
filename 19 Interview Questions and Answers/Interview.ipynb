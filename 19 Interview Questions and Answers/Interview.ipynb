{
 "cells": [
  {
   "cell_type": "raw",
   "id": "828b9726-8e5e-4fad-b894-0fe3a4f95f30",
   "metadata": {
    "tags": []
   },
   "source": [
    "1. What is deep learning?\n",
    "\n",
    "Deep learning is the subset of machine learning methods based on artificial neural networks with representation learning."
   ]
  },
  {
   "cell_type": "raw",
   "id": "409f0aac-9b18-4895-b090-1c11b06333c9",
   "metadata": {},
   "source": [
    "2. What are the main differences between AI, Machine Learning, and Deep Learning?\n",
    "\n",
    "- AI stands for Artificial Intelligence. It is a technique which enables machines to mimic human behavior.\n",
    "- Machine Learning is a subset of AI which uses statistical methods to enable machines to improve with experiences.\n",
    "- Deep learning is a part of Machine learning, which makes the computation of multi-layer neural networks feasible. It takes advantage of neural networks to simulate human-like decision making."
   ]
  },
  {
   "cell_type": "raw",
   "id": "c307c75e-9d05-41e2-b1b7-417a272c64c4",
   "metadata": {},
   "source": [
    "3. Differentiate supervised and unsupervised deep learning procedures.\n",
    "- Supervised learning is a system in which both input and desired output data are provided. Input and output data are labeled to provide a learning basis for future data processing.\n",
    "- Unsupervised procedure does not need labeling information explicitly, and the operations can be carried out without the same. The common unsupervised learning method is cluster analysis. It is used for exploratory data analysis to find hidden patterns or grouping in data."
   ]
  },
  {
   "cell_type": "raw",
   "id": "75177fca-7dc5-4d17-8355-53efe342fbe1",
   "metadata": {},
   "source": [
    "4. What are the applications of deep learning?\n",
    "\n",
    "There are various applications of deep learning:\n",
    "- Computer vision\n",
    "- Natural language processing and pattern recognition\n",
    "- Image recognition and processing\n",
    "- Machine translation\n",
    "- Sentiment analysis\n",
    "- Question Answering system\n",
    "- Object Classification and Detection\n",
    "- Automatic Handwriting Generation\n",
    "- Automatic Text Generation."
   ]
  },
  {
   "cell_type": "raw",
   "id": "5f654dee-146b-4fe6-94da-63c2f72d8ebe",
   "metadata": {},
   "source": [
    "5 Do you think that deep network is better than a shallow one?\n",
    "\n",
    "Both shallow and deep networks are good enough and capable of approximating any function. But for the same level of accuracy, deeper networks can be much more efficient in terms of computation and number of parameters. Deeper networks can create deep representations. At every layer, the network learns a new, more abstract representation of the input."
   ]
  },
  {
   "cell_type": "raw",
   "id": "5a38118c-4e42-4734-adde-f8a4a8d90cf1",
   "metadata": {},
   "source": [
    "6. What do you mean by \"overfitting\"?\n",
    "Overfitting is the most common issue which occurs in deep learning. It usually occurs when a deep learning algorithm apprehends the sound of specific data. It also appears when the particular algorithm is well suitable for the data and shows up when the algorithm or model represents high variance and low bias."
   ]
  },
  {
   "cell_type": "raw",
   "id": "316f1c24-f704-4e7e-8f11-087bb44603fb",
   "metadata": {},
   "source": [
    "7. What is Backpropagation?\n",
    "Backpropagation is a training algorithm which is used for multilayer neural networks. It transfers the error information from the end of the network to all the weights inside the network. It allows the efficient computation of the gradient.\n",
    "\n",
    "Backpropagation can be divided into the following steps:\n",
    "- It can forward propagation of training data through the network to generate output.\n",
    "- It uses target value and output value to compute error derivative concerning output activations.\n",
    "- It can backpropagate to compute the derivative of the error concerning output activations in the previous layer and continue for all hidden layers.\n",
    "- It uses the previously calculated derivatives for output and all hidden - layers to calculate the error derivative concerning weights.\n",
    "- It updates the weights."
   ]
  },
  {
   "cell_type": "raw",
   "id": "db075eb0-b69b-4bd2-9572-81929ac7a524",
   "metadata": {},
   "source": [
    "8. What is the function of the Fourier Transform in Deep Learning?\n",
    "\n",
    "Fourier transform package is highly efficient for analyzing, maintaining, and managing a large databases. The software is created with a high-quality feature known as the special portrayal. One can effectively utilize it to generate real-time array data, which is extremely helpful for processing all categories of signals."
   ]
  },
  {
   "cell_type": "raw",
   "id": "f17d8447-397b-4d8a-9dae-962e1155bcd3",
   "metadata": {},
   "source": [
    "9. Describe the theory of autonomous form of deep learning in a few words.\n",
    "\n",
    "There are several forms and categories available for the particular subject, but the autonomous pattern represents independent or unspecified mathematical bases which are free from any specific categorizer or formula."
   ]
  },
  {
   "cell_type": "raw",
   "id": "51ae0f95-df85-4824-9893-9d46eb8b10a3",
   "metadata": {},
   "source": [
    "10. What is the use of Deep learning in today's age, and how is it adding data scientists?\n",
    "\n",
    "Deep learning has brought significant changes or revolution in the field of machine learning and data science. The concept of a complex neural network (CNN) is the main center of attention for data scientists. It is widely taken because of its advantages in performing next-level machine learning operations. The advantages of deep learning also include the process of clarifying and simplifying issues based on an algorithm due to its utmost flexible and adaptable nature. It is one of the rare procedures which allow the movement of data in independent pathways. Most of the data scientists are viewing this particular medium as an advanced additive and extended way to the existing process of machine learning and utilizing the same for solving complex day to day issues."
   ]
  },
  {
   "cell_type": "raw",
   "id": "df6634c5-c05c-4651-89f3-98010181bc59",
   "metadata": {},
   "source": [
    "11. What are the deep learning frameworks or tools?\n",
    "\n",
    "Deep learning frameworks or tools are:\n",
    "Tensorflow, Keras, Chainer, Pytorch, Theano & Ecosystem, Caffe2, CNTK, DyNetGensim, DSSTNE, Gluon, Paddle, Mxnet, BigDL"
   ]
  },
  {
   "cell_type": "raw",
   "id": "8bc252bb-7714-4119-b440-fd80918cebf8",
   "metadata": {},
   "source": [
    "12. What are the disadvantages of deep learning?\n",
    "\n",
    "There are some disadvantages of deep learning, which are:\n",
    "- Deep learning model takes longer time to execute the model. In some cases, it even takes several days to execute a single model depends on complexity.\n",
    "- The deep learning model is not good for small data sets, and it fails here."
   ]
  },
  {
   "cell_type": "raw",
   "id": "2d788db2-04f2-4e02-b7f4-6524a5b8c936",
   "metadata": {},
   "source": [
    "13) What is the meaning of term weight initialization in neural networks?\n",
    "\n",
    "In neural networking, weight initialization is one of the essential factors. A bad weight initialization prevents a network from learning. On the other side, a good weight initialization helps in giving a quicker convergence and a better overall error. Biases can be initialized to zero. The standard rule for setting the weights is to be close to zero without being too small."
   ]
  },
  {
   "cell_type": "raw",
   "id": "db36e3f6-d68d-4961-b722-4c000717d1de",
   "metadata": {},
   "source": [
    "14) Explain Data Normalization.\n",
    "\n",
    "Data normalization is an essential preprocessing step, which is used to rescale values to fit in a specific range. It assures better convergence during backpropagation. In general, data normalization boils down to subtracting the mean of each data point and dividing by its standard deviation."
   ]
  },
  {
   "cell_type": "raw",
   "id": "8c53bb64-8569-4c5c-9dab-ceab4c83667f",
   "metadata": {},
   "source": [
    "15) Why is zero initialization not a good weight initialization process?\n",
    "\n",
    "If the set of weights in the network is put to a zero, then all the neurons at each layer will start producing the same output and the same gradients during backpropagation.\n",
    "\n",
    "As a result, the network cannot learn at all because there is no source of asymmetry between neurons. That is the reason why we need to add randomness to the weight initialization"
   ]
  },
  {
   "cell_type": "raw",
   "id": "37c4a88b-cecc-4529-a673-2346450d904c",
   "metadata": {},
   "source": [
    "16) What are the prerequisites for starting in Deep Learning?\n",
    "\n",
    "There are some basic requirements for starting in Deep Learning, which are:\n",
    "- Machine Learning\n",
    "- Mathematics\n",
    "- Python Programming"
   ]
  },
  {
   "cell_type": "raw",
   "id": "358e4fcc-9491-4612-9529-66316cf527ff",
   "metadata": {},
   "source": [
    "17) What are the supervised learning algorithms in Deep learning?\n",
    "\n",
    "- Artificial neural network\n",
    "- Convolution neural network\n",
    "- Recurrent neural network"
   ]
  },
  {
   "cell_type": "raw",
   "id": "3dbba3a0-e127-42c1-9aa0-accbf1bb0085",
   "metadata": {},
   "source": [
    "18) What are the unsupervised learning algorithms in Deep learning?\n",
    "\n",
    "- Self Organizing Maps\n",
    "- Deep belief networks (Boltzmann Machine)\n",
    "- Auto Encoders"
   ]
  },
  {
   "cell_type": "raw",
   "id": "326ec305-13ee-433a-a288-a3dbfd9b6d9b",
   "metadata": {},
   "source": [
    "19) How many layers in the neural network?\n",
    "\n",
    "Input Layer: The input layer contains input neurons which send information to the hidden layer.\n",
    "Hidden Layer: The hidden layer is used to send data to the output layer.\n",
    "Output Layer: The data is made available at the output layer."
   ]
  },
  {
   "cell_type": "raw",
   "id": "5c00fc23-d90b-4d2b-9cbc-20f963e711bb",
   "metadata": {},
   "source": [
    "20) What is the use of the Activation function?\n",
    "\n",
    "The activation function is used to introduce nonlinearity into the neural network so that it can learn more complex function. Without the Activation function, the neural network would be only able to learn function, which is a linear combination of its input data.\n",
    "\n",
    "Activation function translates the inputs into outputs. The activation function is responsible for deciding whether a neuron should be activated or not. It makes the decision by calculating the weighted sum and further adding bias with it. The basic purpose of the activation function is to introduce non-linearity into the output of a neuron."
   ]
  },
  {
   "cell_type": "raw",
   "id": "726c2311-9695-45c7-a8f8-3d8a8de7a142",
   "metadata": {},
   "source": [
    "21) How many types of activation function are available?\n",
    "\n",
    "- Binary Step\n",
    "- Sigmoid\n",
    "- Tanh\n",
    "- ReLU\n",
    "- Leaky ReLU\n",
    "- Softmax\n",
    "- Swish\n"
   ]
  },
  {
   "cell_type": "raw",
   "id": "ddd06e51-3fcb-4bfb-81d2-c781039d7dd3",
   "metadata": {},
   "source": [
    "22) What is a binary step function?\n",
    "\n",
    "The binary step function is an activation function, which is usually based on a threshold. If the input value is above or below a particular threshold limit, the neuron is activated, then it sends the same signal to the next layer. This function does not allow multi-value outputs."
   ]
  },
  {
   "cell_type": "raw",
   "id": "e7750d53-260b-49b4-8160-3796beb861b5",
   "metadata": {},
   "source": [
    "23) What is the sigmoid function?\n",
    "\n",
    "The sigmoid activation function is also called the logistic function. It is traditionally a trendy activation function for neural networks. The input data to the function is transformed into a value between 0.0 and 1.0. Input values that are much larger than 1.0 are transformed to the value 1.0. Similarly, values that are much smaller than 0.0 are transformed into 0.0. The shape of the function for all possible inputs is an S-shape from zero up through 0.5 to 1.0. It was the default activation used on neural networks, in the early 1990s."
   ]
  },
  {
   "cell_type": "raw",
   "id": "feaa34f2-2ed7-4c47-9d87-a6f2983d9729",
   "metadata": {},
   "source": [
    "24) What is Tanh function?\n",
    "\n",
    "The hyperbolic tangent function, also known as tanh for short, is a similar shaped nonlinear activation function. It provides output values between -1.0 and 1.0. Later in the 1990s and through the 2000s, this function was preferred over the sigmoid activation function as models. It was easier to train and often had better predictive performance."
   ]
  },
  {
   "cell_type": "raw",
   "id": "1a99cc02-c940-425b-a91c-297b9626070f",
   "metadata": {},
   "source": [
    "25) What is ReLU function?\n",
    "\n",
    "A node or unit which implements the activation function is referred to as a rectified linear activation unit or ReLU for short. Generally, networks that use the rectifier function for the hidden layers are referred to as rectified networks.\n",
    "\n",
    "Adoption of ReLU may easily be considered one of the few milestones in the deep learning revolution."
   ]
  },
  {
   "cell_type": "raw",
   "id": "d97a8bb6-5055-4df9-8b43-af8519b26b7e",
   "metadata": {},
   "source": [
    "26) What is the use of leaky ReLU function?\n",
    "\n",
    "The Leaky ReLU (LReLU or LReL) manages the function to allow small negative values when the input is less than zero."
   ]
  },
  {
   "cell_type": "raw",
   "id": "fbc3cd78-e507-44c7-8a19-576b8f8ffcce",
   "metadata": {},
   "source": [
    "27) What is the softmax function?\n",
    "The softmax function is used to calculate the probability distribution of the event over 'n' different events. One of the main advantages of using softmax is the output probabilities range. The range will be between 0 to 1, and the sum of all the probabilities will be equal to one. When the softmax function is used for multi-classification model, it returns the probabilities of each class, and the target class will have a high probability."
   ]
  },
  {
   "cell_type": "raw",
   "id": "eeab7591-6c8e-4825-9abf-72c7f66c6a5f",
   "metadata": {},
   "source": [
    "28) What is a Swish function?\n",
    "Swish is a new, self-gated activation function. Researchers at Google discovered the Swish function. According to their paper, it performs better than ReLU with a similar level of computational efficiency."
   ]
  },
  {
   "cell_type": "raw",
   "id": "d5834f8a-11db-4ff5-aee1-35a522d27e29",
   "metadata": {},
   "source": [
    "29) What is the most used activation function?\n",
    "Relu function is the most used activation function. It helps us to solve vanishing gradient problems."
   ]
  },
  {
   "cell_type": "raw",
   "id": "eb168cd3-19e4-4967-a86c-67bb08197b04",
   "metadata": {},
   "source": [
    "30) Can Relu function be used in output layer?\n",
    "No, Relu function has to be used in hidden layers."
   ]
  },
  {
   "cell_type": "raw",
   "id": "bc734948-a19e-470d-941c-f963971020ce",
   "metadata": {},
   "source": [
    "31) In which layer softmax activation function used?\n",
    "Softmax activation function has to be used in the output layer."
   ]
  },
  {
   "cell_type": "raw",
   "id": "1a751a43-00af-4a44-b04c-cf9a8f181a39",
   "metadata": {},
   "source": [
    "32) What do you understand by Autoencoder?\n",
    "Autoencoder is an artificial neural network. It can learn representation for a set of data without any supervision. The network automatically learns by copying its input to the output; typically,internet representation consists of smaller dimensions than the input vector. As a result, they can learn efficient ways of representing the data. Autoencoder consists of two parts; an encoder tries to fit the inputs to the internal representation, and a decoder converts the internal state to the outputs."
   ]
  },
  {
   "cell_type": "raw",
   "id": "9a70e993-43fa-4a12-98e4-e1e4b5c07283",
   "metadata": {},
   "source": [
    "33) What do you mean by Dropout?\n",
    "Dropout is a cheap regulation technique used for reducing overfitting in neural networks. We randomly drop out a set of nodes at each training step. As a result, we create a different model for each training case, and all of these models share weights. It's a form of model averaging."
   ]
  },
  {
   "cell_type": "raw",
   "id": "9263c7e4-41db-4aaf-ab1d-b35e82ee0605",
   "metadata": {},
   "source": [
    "34) What do you understand by Tensors?\n",
    "Tensors are nothing but a de facto for representing the data in deep learning. They are just multidimensional arrays, which allows us to represent the data having higher dimensions. In general, we deal with high dimensional data sets where dimensions refer to different features present in the data set."
   ]
  },
  {
   "cell_type": "raw",
   "id": "dbf6a30e-d59f-4380-857c-900533a2cd54",
   "metadata": {},
   "source": [
    "35) What do you understand by Boltzmann Machine?\n",
    "A Boltzmann machine (also known as stochastic Hopfield network with hidden units) is a type of recurrent neural network. In a Boltzmann machine, nodes make binary decisions with some bias. Boltzmann machines can be strung together to create more sophisticated systems such as deep belief networks. Boltzmann Machines can be used to optimize the solution to a problem.\n",
    "\n",
    "Some important points about Boltzmann Machine-\n",
    "\n",
    "- It uses a recurrent structure.\n",
    "- It consists of stochastic neurons, which include one of the two possible states, either 1 or 0.\n",
    "- The neurons present in this are either in an adaptive state (free state) or clamped state (frozen state).\n",
    "- If we apply simulated annealing or discrete Hopfield network, then it would become a Boltzmann Machine."
   ]
  },
  {
   "cell_type": "raw",
   "id": "397b688d-c29b-40ba-8270-7eb72c59cf80",
   "metadata": {},
   "source": [
    "36) What is Model Capacity?\n",
    "The capacity of a deep learning neural network controls the scope of the types of mapping functions that it can learn. Model capacity can approximate any given function. When there is a higher model capacity, it means that the larger amount of information can be stored in the network."
   ]
  },
  {
   "cell_type": "raw",
   "id": "bccac14b-119c-42f5-978a-c6d0d85b529e",
   "metadata": {},
   "source": [
    "37) What is the cost function?\n",
    "A cost function describes us how well the neural network is performing with respect to its given training sample and the expected output. It may depend on variables such as weights and biases.It provides the performance of a neural network as a whole. In deep learning, our priority is to minimize the cost function. That's why we prefer to use the concept of gradient descent."
   ]
  },
  {
   "cell_type": "raw",
   "id": "5b97a22e-99fc-4b61-98a8-d4ee26ba4922",
   "metadata": {},
   "source": [
    "38) Explain gradient descent?\n",
    "An optimization algorithm that is used to minimize some function by repeatedly moving in the direction of steepest descent as specified by the negative of the gradient is known as gradient descent. It's an iteration algorithm, in every iteration algorithm, we compute the gradient of a cost function, concerning each parameter and update the parameter of the function via the following formula:\n",
    "\n",
    "x n + 1 = x n − α ∇ f ( x n )\n",
    "Where,\n",
    "\n",
    "Θ - is the parameter vector,\n",
    "\n",
    "α - learning rate,\n",
    "\n",
    "J(Θ) - is a cost function\n",
    "\n",
    "In machine learning, it is used to update the parameters of our model. Parameters represent the coefficients in linear regression and weights in neural networks."
   ]
  },
  {
   "cell_type": "raw",
   "id": "1fc556ff-4aaa-4da8-88a5-dc3ae9584ec7",
   "metadata": {},
   "source": [
    "39) Explain the following variant of Gradient Descent: Stochastic, Batch, and Mini-batch?\n",
    "\n",
    "Stochastic Gradient Descent: Stochastic gradient descent is used to calculate the gradient and update the parameters by using only a single training example.\n",
    "\n",
    "Batch Gradient Descent: Batch gradient descent is used to calculate the gradients for the whole dataset and perform just one update at each iteration.\n",
    "\n",
    "Mini-batch Gradient Descent: Mini-batch gradient descent is a variation of stochastic gradient descent. Instead of a single training example, mini-batch of samples is used. Mini-batch gradient descent is one of the most popular optimization algorithms."
   ]
  },
  {
   "cell_type": "raw",
   "id": "ce22cb1f-7609-4e1b-9c7d-fa4007f2c59f",
   "metadata": {},
   "source": [
    "40) What are the main benefits of Mini-batch Gradient Descent?\n",
    "- It is computationally efficient compared to stochastic gradient descent.\n",
    "- It improves generalization by finding flat minima.\n",
    "- It improves convergence by using mini-batches. We can approximate the gradient of the entire training set, which might help to avoid local minima."
   ]
  },
  {
   "cell_type": "raw",
   "id": "d01e160f-5e89-456c-9100-f227b4c1abe1",
   "metadata": {},
   "source": [
    "41) What is matrix element-wise multiplication? Explain with an example.\n",
    "\n",
    "Element-wise matrix multiplication is used to take two matrices of the same dimensions. It further produces another combined matrix with the elements that are a product of corresponding elements of matrix a and b.\n",
    "\n"
   ]
  },
  {
   "cell_type": "raw",
   "id": "98b94705-6d77-4eeb-901f-a728e4e4f755",
   "metadata": {},
   "source": [
    "42) What do you understand by a convolutional neural network?\n",
    "A convolutional neural network, often called CNN, is a feedforward neural network. It uses convolution in at least one of its layers. The convolutional layer contains a set of filter (kernels). This filter is sliding across the entire input image, computing the dot product between the weights of the filter and the input image. As a result of training, the network automatically learns filters that can detect specific features."
   ]
  },
  {
   "cell_type": "markdown",
   "id": "9389fb47-c2be-450c-97ad-7cfc57b9bfb7",
   "metadata": {},
   "source": [
    "43) Explain the different layers of CNN.\n",
    "There are four layered concepts that we should understand in CNN (Convolutional Neural Network):\n",
    "\n",
    "__Convolution:__ This layer comprises of a set of independent filters. All these filters are initialized randomly. These filters then become our parameters which will be learned by the network subsequently.\n",
    "\n",
    "__ReLU:__ The ReLu layer is used with the convolutional layer.\n",
    "\n",
    "__Pooling:__ It reduces the spatial size of the representation to lower the number of parameters and computation in the network. This layer operates on each feature map independently.\n",
    "\n",
    "__Full Collectedness:__ Neurons in a completely connected layer have complete connections to all activations in the previous layer, as seen in regular Neural Networks. Their activations can be easily computed with a matrix multiplication followed by a bias offset."
   ]
  },
  {
   "cell_type": "raw",
   "id": "395aacee-46ec-4a89-874e-8f0ea3951e3b",
   "metadata": {},
   "source": [
    "44) What is an RNN?\n",
    "RNN stands for Recurrent Neural Networks. These are the artificial neural networks which are designed to recognize patterns in sequences of data such as handwriting, text, the spoken word, genomes, and numerical time series data. RNN use backpropagation algorithm for training because of their internal memory. RNN can remember important things about the input they received, which enables them to be very precise in predicting what's coming next."
   ]
  },
  {
   "cell_type": "raw",
   "id": "8c19ff28-8b86-4994-8fbe-031d88c5f5be",
   "metadata": {},
   "source": [
    "45) What are the issues faced while training in Recurrent Networks?\n",
    "Recurrent Neural Network uses backpropagation algorithm for training, but it is applied on every timestamp. It is usually known as Back-propagation Through Time (BTT).\n",
    "\n",
    "There are two significant issues with Back-propagation, such as:\n",
    "\n",
    "Vanishing Gradient\n",
    "When we perform Back-propagation, the gradients tend to get smaller and smaller because we keep on moving backward in the Network. As a result, the neurons in the earlier layer learn very slowly if we compare it with the neurons in the later layers.Earlier layers are more valuable because they are responsible for learning and detecting simple patterns. They are the building blocks of the network.\n",
    "If they provide improper or inaccurate results, then how can we expect the next layers and complete network to perform nicely and provide accurate results. The training procedure tales long, and the prediction accuracy of the model decreases.\n",
    "Exploding Gradient\n",
    "Exploding gradients are the main problem when large error gradients accumulate. They provide result in very large updates to neural network model weights during training.\n",
    "Gradient Descent process works best when updates are small and controlled. When the magnitudes of the gradient accumulate, an unstable network is likely to occur. It can cause poor prediction of results or even a model that reports nothing useful."
   ]
  },
  {
   "cell_type": "raw",
   "id": "8bd067e9-fc17-4e49-ae21-0ad792d3c1e4",
   "metadata": {},
   "source": [
    "46) Explain the importance of LSTM.\n",
    "LSTM stands for Long short-term memory. It is an artificial RNN (Recurrent Neural Network) architecture, which is used in the field of deep learning. LSTM has feedback connections which makes it a \"general purpose computer.\" It can process not only a single data point but also entire sequences of data.\n",
    "\n",
    "They are a special kind of RNN which are capable of learning long-term dependencies."
   ]
  },
  {
   "cell_type": "raw",
   "id": "d7fdba16-73bc-4d9e-bf5f-9f62f47ca972",
   "metadata": {},
   "source": [
    "47) What are the different layers of Autoencoders? Explain briefly.\n",
    "An autoencoder contains three layers:\n",
    "\n",
    "Encoder\n",
    "The encoder is used to compress the input into a latent space representation. It encodes the input images as a compressed representation in a reduced dimension. The compressed images are the distorted version of the original image.\n",
    "Code\n",
    "The code layer is used to represent the compressed input which is fed to the decoder.\n",
    "Decoder\n",
    "The decoder layer decodes the encoded image back to its original dimension. The decoded image is a reduced reconstruction of the original image. It is automatically reconstructed from the latent space representation."
   ]
  },
  {
   "cell_type": "raw",
   "id": "3ad95784-ab86-4312-9b71-a2a62db5154c",
   "metadata": {},
   "source": [
    "48) What do you understand by Deep Autoencoders?\n",
    "Deep Autoencoder is the extension of the simple Autoencoder. The first layer present in DeepAutoencoder is responsible for first-order functions in the raw input. The second layer is responsible for second-order functions corresponding to patterns in the appearance of first-order functions. Deeper layers which are available in the Deep Autoencoder tend to learn even high-order features.\n",
    "\n",
    "A deep autoencoder is the combination of two, symmetrical deep-belief networks:\n",
    "\n",
    "First four or five shallow layers represent the encoding half.\n",
    "The other combination of four or five layers makes up the decoding half."
   ]
  },
  {
   "cell_type": "raw",
   "id": "0739e4dd-3c81-4f9c-a241-960b121bdff4",
   "metadata": {},
   "source": [
    "49) What are the three steps to developing the necessary assumption structure in Deep learning?\n",
    "The procedure of developing an assumption structure involves three specific actions.\n",
    "\n",
    "The first step contains algorithm development. This particular process is lengthy.\n",
    "The second step contains algorithm analyzing, which represents the in-process methodology.\n",
    "The third step is about implementing the general algorithm in the final procedure. The entire framework is interlinked and required for throughout the process.\n"
   ]
  },
  {
   "cell_type": "raw",
   "id": "3a9f4d83-3f88-49a7-b487-39fda826a734",
   "metadata": {},
   "source": [
    "50) What do you understand by Perceptron? Also, explain its type.\n",
    "A perceptron is a neural network unit (an artificial neuron) that does certain computations to detect features. It is an algorithm for supervised learning of binary classifiers. This algorithm is used to enable neurons to learn and processes elements in the training set one at a time.\n",
    "\n",
    "There are two types of perceptrons:\n",
    "\n",
    "Single-Layer Perceptron\n",
    "Single layer perceptrons can learn only linearly separable patterns.\n",
    "Multilayer Perceptrons\n",
    "Multilayer perceptrons or feedforward neural networks with two or more layers have the higher processing power."
   ]
  },
  {
   "cell_type": "code",
   "execution_count": null,
   "id": "2a3fee70-3ae0-46ca-96f1-7c979fd6593a",
   "metadata": {},
   "outputs": [],
   "source": []
  },
  {
   "cell_type": "code",
   "execution_count": null,
   "id": "4a7d3d79-062e-4397-a598-862b4aab767a",
   "metadata": {},
   "outputs": [],
   "source": []
  },
  {
   "cell_type": "code",
   "execution_count": null,
   "id": "ff3e659e-5cdb-4f91-bd9d-6dd2b406c1a4",
   "metadata": {},
   "outputs": [],
   "source": []
  },
  {
   "cell_type": "code",
   "execution_count": null,
   "id": "ab2a8500-deba-4d84-b8f2-d12e7154a3ea",
   "metadata": {},
   "outputs": [],
   "source": []
  },
  {
   "cell_type": "code",
   "execution_count": null,
   "id": "d550283c-34f5-4325-864b-617f300bf2da",
   "metadata": {},
   "outputs": [],
   "source": []
  },
  {
   "cell_type": "code",
   "execution_count": null,
   "id": "a898c758-049d-4fa1-8e6f-446b5b13249d",
   "metadata": {},
   "outputs": [],
   "source": []
  }
 ],
 "metadata": {
  "kernelspec": {
   "display_name": "Python 3 (ipykernel)",
   "language": "python",
   "name": "python3"
  },
  "language_info": {
   "codemirror_mode": {
    "name": "ipython",
    "version": 3
   },
   "file_extension": ".py",
   "mimetype": "text/x-python",
   "name": "python",
   "nbconvert_exporter": "python",
   "pygments_lexer": "ipython3",
   "version": "3.11.4"
  }
 },
 "nbformat": 4,
 "nbformat_minor": 5
}
